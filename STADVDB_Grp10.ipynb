{
  "cells": [
    {
      "cell_type": "markdown",
      "metadata": {
        "id": "_-ariOkpFOR0"
      },
      "source": [
        "# STADVDB MCO1: Query Processing in a Data Warehouse\n",
        "## Research Question: The Impact of Language, Region, and Cultural Adaptation on International Film Reception\n",
        "\n",
        "**STADVDB_S19 Group 10:**  \n",
        "- Perol, Francine Nicole T.\n",
        "- Pineda, Dencel Angelo D.\n",
        "- Sy, Vaughn Marick A.\n",
        "- Valdez, Pulvert Gerald M."
      ]
    },
    {
      "cell_type": "code",
      "execution_count": 3,
      "metadata": {
        "id": "F8v-jQFZBLw0"
      },
      "outputs": [
        {
          "name": "stdout",
          "output_type": "stream",
          "text": [
            "✅ Connected via SQLAlchemy: ('PostgreSQL 18.0 on x86_64-windows, compiled by msvc-19.44.35217, 64-bit',)\n"
          ]
        }
      ],
      "source": [
        "from sqlalchemy import create_engine, text\n",
        "\n",
        "engine = create_engine(\n",
        "    \"postgresql+psycopg2://\",\n",
        "    connect_args={\n",
        "        \"host\": \"localhost\",\n",
        "        \"port\": 5432,\n",
        "        \"dbname\": \"mco1_imdb\",\n",
        "        \"user\": \"postgres\",\n",
        "        \"password\": \"EleanorKat17;\"\n",
        "    }\n",
        ")\n",
        "\n",
        "with engine.connect() as conn:\n",
        "    print(\"✅ Connected via SQLAlchemy:\", conn.execute(text(\"SELECT version();\")).fetchone())\n"
      ]
    },
    {
      "cell_type": "code",
      "execution_count": null,
      "metadata": {
        "id": "aP6DxfvMZk1q"
      },
      "outputs": [],
      "source": [
        "# Test: fetch first 5 rows from your fact table\n",
        "df = pd.read_sql(\"SELECT * FROM fact_film_version LIMIT 5;\", engine)\n",
        "df"
      ]
    }
  ],
  "metadata": {
    "colab": {
      "provenance": []
    },
    "kernelspec": {
      "display_name": "Python 3",
      "name": "python3"
    },
    "language_info": {
      "codemirror_mode": {
        "name": "ipython",
        "version": 3
      },
      "file_extension": ".py",
      "mimetype": "text/x-python",
      "name": "python",
      "nbconvert_exporter": "python",
      "pygments_lexer": "ipython3",
      "version": "3.10.11"
    }
  },
  "nbformat": 4,
  "nbformat_minor": 0
}

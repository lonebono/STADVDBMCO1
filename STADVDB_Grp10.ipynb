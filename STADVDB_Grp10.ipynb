{
  "nbformat": 4,
  "nbformat_minor": 0,
  "metadata": {
    "colab": {
      "provenance": []
    },
    "kernelspec": {
      "name": "python3",
      "display_name": "Python 3"
    },
    "language_info": {
      "name": "python"
    }
  },
  "cells": [
    {
      "cell_type": "markdown",
      "source": [
        "# STADVDB MCO1: Query Processing in a Data Warehouse\n",
        "## Research Question: The Impact of Language, Region, and Cultural Adaptation on International Film Reception\n",
        "\n",
        "**STADVDB_S19 Group 10:**  \n",
        "- Perol, Francine Nicole T.\n",
        "- Pineda, Dencel Angelo D.\n",
        "- Sy, Vaughn Marick A.\n",
        "- Valdez, Pulvert Gerald M."
      ],
      "metadata": {
        "id": "_-ariOkpFOR0"
      }
    },
    {
      "cell_type": "code",
      "execution_count": null,
      "metadata": {
        "id": "F8v-jQFZBLw0"
      },
      "outputs": [],
      "source": [
        "from sqlalchemy import create_engine\n",
        "\n",
        "DB_USER = \"postgres\"\n",
        "DB_PASSWORD = \"EleanorKat17;\"\n",
        "DB_HOST = \"localhost\"\n",
        "DB_PORT = \"5432\"\n",
        "DB_NAME = \"mco1_imdb\"\n",
        "\n",
        "\n",
        "# Create the connection engine\n",
        "engine = create_engine(f\"postgresql://{DB_USER}:{DB_PASSWORD}@{DB_HOST}:{DB_PORT}/{DB_NAME}\")"
      ]
    },
    {
      "cell_type": "code",
      "source": [
        "# Test: fetch first 5 rows from your fact table\n",
        "df = pd.read_sql(\"SELECT * FROM fact_film_version LIMIT 5;\", engine)\n",
        "df"
      ],
      "metadata": {
        "id": "aP6DxfvMZk1q"
      },
      "execution_count": null,
      "outputs": []
    }
  ]
}